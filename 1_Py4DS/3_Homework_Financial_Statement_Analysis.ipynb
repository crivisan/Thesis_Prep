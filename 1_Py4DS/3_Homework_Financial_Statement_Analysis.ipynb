{
 "cells": [
  {
   "cell_type": "markdown",
   "metadata": {},
   "source": [
    "Scenario: You are a Data Scientist working for a consulting firm. One of your\n",
    "colleagues from the Auditing department has asked you to help them assess the\n",
    "financial statement of organisation X."
   ]
  },
  {
   "cell_type": "markdown",
   "metadata": {},
   "source": [
    "You have been supplied with two vectors of data: monthly revenue and monthly\n",
    "expenses for the financial year in question. Your task is to calculate the following\n",
    "financial metrics:"
   ]
  },
  {
   "cell_type": "code",
   "execution_count": 1,
   "metadata": {},
   "outputs": [],
   "source": [
    "#Data \n",
    "revenue = [14574.49, 7606.46, 8611.41, 9175.41, 8058.65, 8105.44, 11496.28, 9766.09, 10305.32, 14379.96, 10713.97, 15433.50]\n",
    "expenses = [12051.82, 5695.07, 12319.20, 12089.72, 8658.57, 840.20, 3285.73, 5821.12, 6976.93, 16618.61, 10054.37, 3803.96]"
   ]
  },
  {
   "cell_type": "markdown",
   "metadata": {},
   "source": [
    "---"
   ]
  },
  {
   "cell_type": "markdown",
   "metadata": {},
   "source": [
    "1. Profit for each month"
   ]
  },
  {
   "cell_type": "code",
   "execution_count": 9,
   "metadata": {
    "scrolled": true
   },
   "outputs": [
    {
     "name": "stdout",
     "output_type": "stream",
     "text": [
      "[2522.67, 1911.3900000000003, -3707.790000000001, -2914.3099999999995, -599.9200000000001, 7265.24, 8210.550000000001, 3944.9700000000003, 3328.3899999999994, -2238.6500000000015, 659.5999999999985, 11629.54]\n"
     ]
    }
   ],
   "source": [
    "profit = []\n",
    "for i in range(0, len(revenue)):\n",
    "        profit.append(revenue[i] - expenses[i])\n",
    "print(profit)"
   ]
  },
  {
   "cell_type": "code",
   "execution_count": 10,
   "metadata": {},
   "outputs": [],
   "source": [
    "##ANOTHER WAY TO DO\n",
    "#List comprehensions\n",
    "#List comprehensions provide a concise way to create lists\n",
    "#Common applications are to make new lists where each element is the result of some operations applied\n",
    "#to each member of another sequence or iterable, or to create a subsequence of those elements that satisfy\n",
    "#a certain condition\n",
    "\n",
    "#e.g.:\n",
    "#a = [1, 2, 3]\n",
    "#double_a = [i * 2 for i in a]\n",
    "#double_a"
   ]
  },
  {
   "cell_type": "markdown",
   "metadata": {},
   "source": [
    "---"
   ]
  },
  {
   "cell_type": "markdown",
   "metadata": {},
   "source": [
    "2. Profit after tax for each month (the tax rate is 30%)"
   ]
  },
  {
   "cell_type": "code",
   "execution_count": 11,
   "metadata": {},
   "outputs": [
    {
     "data": {
      "text/plain": [
       "[3279.471,\n",
       " 2484.8070000000007,\n",
       " -4820.127000000001,\n",
       " -3788.6029999999996,\n",
       " -779.8960000000001,\n",
       " 9444.812,\n",
       " 10673.715000000002,\n",
       " 5128.461,\n",
       " 4326.906999999999,\n",
       " -2910.245000000002,\n",
       " 857.4799999999981,\n",
       " 15118.402000000002]"
      ]
     },
     "execution_count": 11,
     "metadata": {},
     "output_type": "execute_result"
    }
   ],
   "source": [
    "p_after_t = [j * 1.30 for j in profit]\n",
    "p_after_t"
   ]
  },
  {
   "cell_type": "markdown",
   "metadata": {},
   "source": [
    "---"
   ]
  },
  {
   "cell_type": "markdown",
   "metadata": {},
   "source": [
    "3. Profit margin for each month - equals to profit after tax divided by revenue"
   ]
  },
  {
   "cell_type": "code",
   "execution_count": 12,
   "metadata": {},
   "outputs": [
    {
     "data": {
      "text/plain": [
       "[0.22501446019723503,\n",
       " 0.3266706194471542,\n",
       " -0.5597372555713874,\n",
       " -0.41290830600485423,\n",
       " -0.09677749995346617,\n",
       " 1.165243589490515,\n",
       " 0.9284494636525904,\n",
       " 0.5251294018384021,\n",
       " 0.4198711927431656,\n",
       " -0.20238199549929223,\n",
       " 0.08003382499670973,\n",
       " 0.9795835034178898]"
      ]
     },
     "execution_count": 12,
     "metadata": {},
     "output_type": "execute_result"
    }
   ],
   "source": [
    "p_margin = []\n",
    "for i in range(0,len(p_after_t)):\n",
    "    p_margin.append(p_after_t[i]/revenue[i])\n",
    "p_margin"
   ]
  },
  {
   "cell_type": "markdown",
   "metadata": {},
   "source": [
    "---"
   ]
  },
  {
   "cell_type": "markdown",
   "metadata": {},
   "source": [
    "4. Good months - where the profit after tax was greater than the mean for the year"
   ]
  },
  {
   "cell_type": "code",
   "execution_count": 20,
   "metadata": {},
   "outputs": [],
   "source": [
    "import numpy as np"
   ]
  },
  {
   "cell_type": "code",
   "execution_count": 23,
   "metadata": {},
   "outputs": [
    {
     "data": {
      "text/plain": [
       "3251.2653333333333"
      ]
     },
     "execution_count": 23,
     "metadata": {},
     "output_type": "execute_result"
    }
   ],
   "source": [
    "mean_paft = np.mean(p_after_t)\n",
    "mean_paft"
   ]
  },
  {
   "cell_type": "code",
   "execution_count": 49,
   "metadata": {},
   "outputs": [
    {
     "name": "stdout",
     "output_type": "stream",
     "text": [
      "Average profit after tax: 3251.27\n",
      "Profit after taxes: \n",
      " ['3279.47', '2484.81', '-4820.13', '-3788.60', '-779.90', '9444.81', '10673.72', '5128.46', '4326.91', '-2910.25', '857.48', '15118.40']\n",
      "[True, False, False, False, False, True, True, True, True, False, False, True] <-- True means a GOOD month\n",
      "['Jan', 'Feb', 'Mar', 'Apr', 'May', 'Jun', 'Jul', 'Aug', 'Sep', 'Oct', 'Nov', 'Dec']\n"
     ]
    }
   ],
   "source": [
    "good_months = []\n",
    "months = ['Jan', 'Feb', 'Mar', 'Apr', 'May', 'Jun', 'Jul', 'Aug', 'Sep', 'Oct', 'Nov', 'Dec']\n",
    "for i in range(0,len(p_after_t)):\n",
    "    good_months.append(p_after_t[i] > mean_paft)\n",
    "print(\"Average profit after tax:\", \"%.2f\" % mean_paft)\n",
    "\n",
    "#Formating list to get two decimals\n",
    "formated_p_after = [\"%.2f\" % k for k in p_after_t]\n",
    "print(\"Profit after taxes:\", \"\\n\", formated_p_after)\n",
    "print(good_months, \"<-- True means a GOOD month\")\n",
    "print(months)\n",
    "\n",
    "    "
   ]
  },
  {
   "cell_type": "markdown",
   "metadata": {},
   "source": [
    "---"
   ]
  },
  {
   "cell_type": "markdown",
   "metadata": {},
   "source": [
    "5. Bad months - where the profit after tax was less than the mean for the year"
   ]
  },
  {
   "cell_type": "code",
   "execution_count": 50,
   "metadata": {},
   "outputs": [
    {
     "name": "stdout",
     "output_type": "stream",
     "text": [
      "Profit after tax:  ['3279.47', '2484.81', '-4820.13', '-3788.60', '-779.90', '9444.81', '10673.72', '5128.46', '4326.91', '-2910.25', '857.48', '15118.40']\n",
      "Average Profit after tax:  3251.27\n",
      "[False, True, True, True, True, False, False, False, False, True, True, False] <-- True means a BAD month\n",
      "['Jan', 'Feb', 'Mar', 'Apr', 'May', 'Jun', 'Jul', 'Aug', 'Sep', 'Oct', 'Nov', 'Dec']\n"
     ]
    }
   ],
   "source": [
    "bad_months = []\n",
    "for i in range(0,len(p_after_t)):\n",
    "    bad_months.append(p_after_t[i] < mean_paft)\n",
    "print(\"Profit after tax: \", formated_p_after)\n",
    "print(\"Average Profit after tax: \", \"%.2f\" % mean_paft)\n",
    "print(bad_months, \"<-- True means a BAD month\")\n",
    "print(months)"
   ]
  },
  {
   "cell_type": "markdown",
   "metadata": {},
   "source": [
    "---"
   ]
  },
  {
   "cell_type": "markdown",
   "metadata": {},
   "source": [
    "6. The best month - where the profit after tax was max for the year"
   ]
  },
  {
   "cell_type": "code",
   "execution_count": 52,
   "metadata": {},
   "outputs": [
    {
     "data": {
      "text/plain": [
       "15118.402000000002"
      ]
     },
     "execution_count": 52,
     "metadata": {},
     "output_type": "execute_result"
    }
   ],
   "source": [
    "best_m = max(p_after_t)\n",
    "best_m"
   ]
  },
  {
   "cell_type": "markdown",
   "metadata": {},
   "source": [
    "---"
   ]
  },
  {
   "cell_type": "markdown",
   "metadata": {},
   "source": [
    "7. The worst month - where the profit after tax was min for the year"
   ]
  },
  {
   "cell_type": "code",
   "execution_count": 53,
   "metadata": {},
   "outputs": [
    {
     "data": {
      "text/plain": [
       "-4820.127000000001"
      ]
     },
     "execution_count": 53,
     "metadata": {},
     "output_type": "execute_result"
    }
   ],
   "source": [
    "worst_m = min(p_after_t)\n",
    "worst_m"
   ]
  },
  {
   "cell_type": "code",
   "execution_count": null,
   "metadata": {},
   "outputs": [],
   "source": []
  }
 ],
 "metadata": {
  "kernelspec": {
   "display_name": "Python 3",
   "language": "python",
   "name": "python3"
  },
  "language_info": {
   "codemirror_mode": {
    "name": "ipython",
    "version": 3
   },
   "file_extension": ".py",
   "mimetype": "text/x-python",
   "name": "python",
   "nbconvert_exporter": "python",
   "pygments_lexer": "ipython3",
   "version": "3.7.6"
  }
 },
 "nbformat": 4,
 "nbformat_minor": 4
}
