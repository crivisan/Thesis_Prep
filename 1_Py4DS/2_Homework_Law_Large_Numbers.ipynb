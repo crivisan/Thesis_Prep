{
 "cells": [
  {
   "cell_type": "markdown",
   "metadata": {},
   "source": [
    "Test the Law Of Large Numbers for N random normally distributed numbers with\n",
    "mean = 0, stdev = 1:\n",
    "\n",
    "Create a Python script that will count how many of these numbers fall between -1\n",
    "and 1 and divide by the total quantity of N\n",
    "\n",
    "You know that E(X) = 68.2%\n",
    "\n",
    "Check that Mean(XN) -> E(X) as you rerun your script while increasing N"
   ]
  },
  {
   "cell_type": "code",
   "execution_count": 2,
   "metadata": {},
   "outputs": [],
   "source": [
    "import numpy as np\n",
    "from numpy.random import randn"
   ]
  },
  {
   "cell_type": "code",
   "execution_count": 14,
   "metadata": {},
   "outputs": [
    {
     "name": "stdout",
     "output_type": "stream",
     "text": [
      "0.001\n"
     ]
    }
   ],
   "source": [
    "N = 1000\n",
    "y = 0\n",
    "for i in randn(N):\n",
    "    if (i <= 1 and i >= -1):\n",
    "        y =+ 1\n",
    "answer = y/N\n",
    "print(answer)\n",
    "\n",
    "        \n",
    "    \n",
    "        "
   ]
  }
 ],
 "metadata": {
  "kernelspec": {
   "display_name": "Python 3",
   "language": "python",
   "name": "python3"
  },
  "language_info": {
   "codemirror_mode": {
    "name": "ipython",
    "version": 3
   },
   "file_extension": ".py",
   "mimetype": "text/x-python",
   "name": "python",
   "nbconvert_exporter": "python",
   "pygments_lexer": "ipython3",
   "version": "3.7.6"
  }
 },
 "nbformat": 4,
 "nbformat_minor": 4
}
