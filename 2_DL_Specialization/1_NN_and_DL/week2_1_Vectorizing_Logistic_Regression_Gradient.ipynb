{
 "cells": [
  {
   "cell_type": "markdown",
   "metadata": {},
   "source": [
    "# WEEK 02: \n",
    "- Vectorization: Checking timing diferences between Vector and For Loop \n",
    "- More Vectorization examples \n",
    "- Vectorizing Logistic Regression \n",
    "- Broadcasting in Python"
   ]
  },
  {
   "cell_type": "markdown",
   "metadata": {},
   "source": [
    "# Checking timing diferences \n",
    "# between Vector and For Loop"
   ]
  },
  {
   "cell_type": "markdown",
   "metadata": {},
   "source": [
    "Vectorization is basically\n",
    "the art of getting rid of explicit folders in your code.\n",
    "In the deep learning era safety in deep learning in practice,\n",
    "you often find yourself training on relatively large data sets,\n",
    "because that's when deep learning algorithms tend to shine.\n",
    "And so, it's important that your code very quickly because otherwise,\n",
    "if it's running on a big data set,\n",
    "your code might take a long time to run then you just find\n",
    "yourself waiting a very long time to get the result"
   ]
  },
  {
   "cell_type": "code",
   "execution_count": 2,
   "metadata": {},
   "outputs": [
    {
     "name": "stdout",
     "output_type": "stream",
     "text": [
      "249974.8653636595\n",
      "Vectorized version: 7.999897003173828ms\n",
      "249974.86536365506\n",
      "For Loop version: 1308.1791400909424ms\n"
     ]
    }
   ],
   "source": [
    "import numpy as np\n",
    "import time\n",
    "\n",
    "a = np.random.rand(1000000)\n",
    "b = np.random.rand(1000000)\n",
    "\n",
    "tic = time.time()\n",
    "c = np.dot(a,b)\n",
    "toc = time.time()\n",
    "\n",
    "print(c)\n",
    "print(\"Vectorized version: \" + str(1000*(toc-tic)) + \"ms\")\n",
    "\n",
    "d = 0\n",
    "ticd = time.time()\n",
    "for i in range(1000000):\n",
    "    d += a[i]*b[i]\n",
    "tocd = time.time()\n",
    "\n",
    "print(d)\n",
    "print(\"For Loop version: \" + str(1000*(tocd-ticd)) + \"ms\")"
   ]
  },
  {
   "cell_type": "markdown",
   "metadata": {},
   "source": [
    "Some of you might have heard that a lot of\n",
    "scaleable deep learning implementations are done on a GPU or a graphics processing unit.\n",
    "But all the demos I did just now in the Jupiter notebook where actually on the CPU.\n",
    "And it turns out that both GPU and CPU have parallelization instructions.\n",
    "They're sometimes called SIMD instructions.\n",
    "This stands for a single instruction multiple data.\n",
    "But what this basically means is that,\n",
    "if you use built-in functions such as this\n",
    "np.function or other functions that don't require you explicitly implementing a for loop.\n",
    "It enables Phyton Pi to take\n",
    "much better advantage of parallelism to do your computations much faster.\n",
    "And this is true both computations on CPUs and computations on GPUs.\n",
    "It's just that GPUs are remarkably good at\n",
    "these SIMD calculations but CPU is actually also not too bad at that.\n",
    "Maybe just not as good as GPUs.\n",
    "You're seeing how vectorization can significantly speed up your code.\n",
    "The rule of thumb to remember is whenever possible,\n",
    "avoid using explicit four loops.\n",
    "Let's go onto the next video to see some more examples of\n",
    "vectorization and also start to vectorize logistic regression. \n",
    "\n",
    "##### \"The rule of thumb to remember is whenever possible, avoid using explicit four loops\""
   ]
  },
  {
   "cell_type": "markdown",
   "metadata": {},
   "source": [
    "---"
   ]
  },
  {
   "cell_type": "markdown",
   "metadata": {},
   "source": [
    "# Avoiding For loops"
   ]
  },
  {
   "cell_type": "code",
   "execution_count": 15,
   "metadata": {},
   "outputs": [],
   "source": [
    "import numpy as np\n",
    "import math\n",
    "v = np.random.rand(100,1)\n",
    "n = len(v)\n",
    "\n",
    "#for -loop\n",
    "u = np.zeros((n,1))\n",
    "for i in range(n):\n",
    "    u[i] = math.exp(v[i])\n",
    "\n",
    "# Vectorized\n",
    "u2 = np.exp(v)\n"
   ]
  },
  {
   "cell_type": "code",
   "execution_count": 16,
   "metadata": {
    "collapsed": true
   },
   "outputs": [
    {
     "data": {
      "text/plain": [
       "array([[1.26165099],\n",
       "       [1.23052556],\n",
       "       [2.41947929],\n",
       "       [1.26952376],\n",
       "       [1.06510585],\n",
       "       [1.36090634],\n",
       "       [1.85275198],\n",
       "       [1.21663292],\n",
       "       [1.31808408],\n",
       "       [1.4861464 ],\n",
       "       [2.63693543],\n",
       "       [1.37223217],\n",
       "       [2.07808928],\n",
       "       [1.96081291],\n",
       "       [1.01057697],\n",
       "       [1.44440799],\n",
       "       [1.06635924],\n",
       "       [1.55702008],\n",
       "       [1.63019028],\n",
       "       [1.69233273],\n",
       "       [1.75778377],\n",
       "       [1.11064978],\n",
       "       [2.23600201],\n",
       "       [1.63382716],\n",
       "       [1.17465799],\n",
       "       [1.26188173],\n",
       "       [1.55756661],\n",
       "       [1.26845415],\n",
       "       [1.53183925],\n",
       "       [1.97950489],\n",
       "       [2.34152837],\n",
       "       [1.18652999],\n",
       "       [1.86537725],\n",
       "       [1.48818511],\n",
       "       [1.59428117],\n",
       "       [1.90872931],\n",
       "       [1.10812672],\n",
       "       [1.16813825],\n",
       "       [1.70629478],\n",
       "       [2.62673741],\n",
       "       [1.14466679],\n",
       "       [1.68671107],\n",
       "       [1.4937197 ],\n",
       "       [2.37403709],\n",
       "       [1.79564247],\n",
       "       [1.6266087 ],\n",
       "       [1.19192693],\n",
       "       [1.42173269],\n",
       "       [1.04471541],\n",
       "       [1.19718742],\n",
       "       [1.04670183],\n",
       "       [1.07738873],\n",
       "       [1.31960944],\n",
       "       [2.53424103],\n",
       "       [1.46573879],\n",
       "       [1.18193552],\n",
       "       [1.001108  ],\n",
       "       [1.31747948],\n",
       "       [1.11566277],\n",
       "       [2.53477183],\n",
       "       [1.11200252],\n",
       "       [1.15259062],\n",
       "       [1.98103601],\n",
       "       [1.40324302],\n",
       "       [1.30828343],\n",
       "       [1.27512603],\n",
       "       [1.50541103],\n",
       "       [1.41002698],\n",
       "       [1.16117982],\n",
       "       [2.29258916],\n",
       "       [2.37456031],\n",
       "       [2.04747557],\n",
       "       [2.58440493],\n",
       "       [1.05459423],\n",
       "       [2.27304625],\n",
       "       [1.02716232],\n",
       "       [1.2218407 ],\n",
       "       [1.60790658],\n",
       "       [1.37129366],\n",
       "       [1.17422574],\n",
       "       [1.32072071],\n",
       "       [1.30942894],\n",
       "       [2.1097409 ],\n",
       "       [1.79187284],\n",
       "       [1.12919434],\n",
       "       [1.77682429],\n",
       "       [1.49625837],\n",
       "       [2.06234896],\n",
       "       [1.55329215],\n",
       "       [2.37720494],\n",
       "       [1.54808181],\n",
       "       [1.85443672],\n",
       "       [1.25116292],\n",
       "       [1.26617611],\n",
       "       [1.40753414],\n",
       "       [1.75717303],\n",
       "       [1.86144779],\n",
       "       [2.53053028],\n",
       "       [2.0414006 ],\n",
       "       [2.46472734]])"
      ]
     },
     "execution_count": 16,
     "metadata": {},
     "output_type": "execute_result"
    }
   ],
   "source": [
    "u"
   ]
  },
  {
   "cell_type": "code",
   "execution_count": 17,
   "metadata": {
    "collapsed": true
   },
   "outputs": [
    {
     "data": {
      "text/plain": [
       "array([[1.26165099],\n",
       "       [1.23052556],\n",
       "       [2.41947929],\n",
       "       [1.26952376],\n",
       "       [1.06510585],\n",
       "       [1.36090634],\n",
       "       [1.85275198],\n",
       "       [1.21663292],\n",
       "       [1.31808408],\n",
       "       [1.4861464 ],\n",
       "       [2.63693543],\n",
       "       [1.37223217],\n",
       "       [2.07808928],\n",
       "       [1.96081291],\n",
       "       [1.01057697],\n",
       "       [1.44440799],\n",
       "       [1.06635924],\n",
       "       [1.55702008],\n",
       "       [1.63019028],\n",
       "       [1.69233273],\n",
       "       [1.75778377],\n",
       "       [1.11064978],\n",
       "       [2.23600201],\n",
       "       [1.63382716],\n",
       "       [1.17465799],\n",
       "       [1.26188173],\n",
       "       [1.55756661],\n",
       "       [1.26845415],\n",
       "       [1.53183925],\n",
       "       [1.97950489],\n",
       "       [2.34152837],\n",
       "       [1.18652999],\n",
       "       [1.86537725],\n",
       "       [1.48818511],\n",
       "       [1.59428117],\n",
       "       [1.90872931],\n",
       "       [1.10812672],\n",
       "       [1.16813825],\n",
       "       [1.70629478],\n",
       "       [2.62673741],\n",
       "       [1.14466679],\n",
       "       [1.68671107],\n",
       "       [1.4937197 ],\n",
       "       [2.37403709],\n",
       "       [1.79564247],\n",
       "       [1.6266087 ],\n",
       "       [1.19192693],\n",
       "       [1.42173269],\n",
       "       [1.04471541],\n",
       "       [1.19718742],\n",
       "       [1.04670183],\n",
       "       [1.07738873],\n",
       "       [1.31960944],\n",
       "       [2.53424103],\n",
       "       [1.46573879],\n",
       "       [1.18193552],\n",
       "       [1.001108  ],\n",
       "       [1.31747948],\n",
       "       [1.11566277],\n",
       "       [2.53477183],\n",
       "       [1.11200252],\n",
       "       [1.15259062],\n",
       "       [1.98103601],\n",
       "       [1.40324302],\n",
       "       [1.30828343],\n",
       "       [1.27512603],\n",
       "       [1.50541103],\n",
       "       [1.41002698],\n",
       "       [1.16117982],\n",
       "       [2.29258916],\n",
       "       [2.37456031],\n",
       "       [2.04747557],\n",
       "       [2.58440493],\n",
       "       [1.05459423],\n",
       "       [2.27304625],\n",
       "       [1.02716232],\n",
       "       [1.2218407 ],\n",
       "       [1.60790658],\n",
       "       [1.37129366],\n",
       "       [1.17422574],\n",
       "       [1.32072071],\n",
       "       [1.30942894],\n",
       "       [2.1097409 ],\n",
       "       [1.79187284],\n",
       "       [1.12919434],\n",
       "       [1.77682429],\n",
       "       [1.49625837],\n",
       "       [2.06234896],\n",
       "       [1.55329215],\n",
       "       [2.37720494],\n",
       "       [1.54808181],\n",
       "       [1.85443672],\n",
       "       [1.25116292],\n",
       "       [1.26617611],\n",
       "       [1.40753414],\n",
       "       [1.75717303],\n",
       "       [1.86144779],\n",
       "       [2.53053028],\n",
       "       [2.0414006 ],\n",
       "       [2.46472734]])"
      ]
     },
     "execution_count": 17,
     "metadata": {},
     "output_type": "execute_result"
    }
   ],
   "source": [
    "u2"
   ]
  },
  {
   "cell_type": "markdown",
   "metadata": {},
   "source": [
    "#### some other functions used\n",
    "np.log(v)\n",
    "np.abs(v) absolute value\n",
    "np.maximum(v,0)\n",
    "v**2\n",
    "1/2"
   ]
  },
  {
   "cell_type": "markdown",
   "metadata": {},
   "source": [
    "---"
   ]
  },
  {
   "cell_type": "markdown",
   "metadata": {},
   "source": [
    "# Logistic regression implementation\n"
   ]
  },
  {
   "cell_type": "markdown",
   "metadata": {},
   "source": [
    "### Z = wT X + b\n",
    "Z = np.dot(wt, X) + b\n",
    "A = logistic(Z)\n",
    "dz = A-Y\n",
    "### dw = 1/m X dzt\n",
    "db = 1/m np.sum(dz)\n",
    "\n",
    "w = w-learningrate*dw\n",
    "b = b-learningrate*db\n"
   ]
  },
  {
   "cell_type": "markdown",
   "metadata": {},
   "source": [
    "---"
   ]
  },
  {
   "cell_type": "markdown",
   "metadata": {},
   "source": [
    "# Broadcasting in Python"
   ]
  },
  {
   "cell_type": "code",
   "execution_count": 19,
   "metadata": {},
   "outputs": [
    {
     "name": "stdout",
     "output_type": "stream",
     "text": [
      "[[ 56.    0.    4.4  68. ]\n",
      " [  1.2 104.   52.    8. ]\n",
      " [  1.8 135.   99.    0.9]]\n"
     ]
    }
   ],
   "source": [
    "#broadcasting example\n",
    "#(m,n)   if + - * or /   (1,n)  --> (m,n)\n",
    "#(m,n)  if + - * or /    (m,1)  --> (m,n)\n",
    "#(m,1) + R\n",
    "#[1 2 3]' + 100 = [101 102 103]\n",
    "#[1 2 3] + 100 = [101 102 103]\n",
    "import numpy as np\n",
    "A = np.array([[56.0,0.0,4.4,68.0],\n",
    "              [1.2,104.0,52.0,8.0],\n",
    "              [1.8,135.0,99.0,0.9]])\n",
    "print(A)"
   ]
  },
  {
   "cell_type": "code",
   "execution_count": 25,
   "metadata": {},
   "outputs": [
    {
     "name": "stdout",
     "output_type": "stream",
     "text": [
      "[ 59.  239.  155.4  76.9]\n"
     ]
    }
   ],
   "source": [
    "cal = A.sum(axis=0)\n",
    "print(cal)"
   ]
  },
  {
   "cell_type": "code",
   "execution_count": 26,
   "metadata": {},
   "outputs": [
    {
     "name": "stdout",
     "output_type": "stream",
     "text": [
      "[[0.94915254 0.         0.02831403 0.88426528]\n",
      " [0.02033898 0.43514644 0.33462033 0.10403121]\n",
      " [0.03050847 0.56485356 0.63706564 0.01170351]]\n"
     ]
    }
   ],
   "source": [
    "percentage = A/cal.reshape(1,4)\n",
    "print(percentage)"
   ]
  },
  {
   "cell_type": "markdown",
   "metadata": {},
   "source": [
    "---"
   ]
  },
  {
   "cell_type": "markdown",
   "metadata": {},
   "source": [
    "# Python-Numpy vectors"
   ]
  },
  {
   "cell_type": "code",
   "execution_count": 33,
   "metadata": {},
   "outputs": [],
   "source": [
    "import numpy as np\n",
    "a = np.random.randn(5)  #not suitable for deeplearning codes"
   ]
  },
  {
   "cell_type": "code",
   "execution_count": 34,
   "metadata": {},
   "outputs": [
    {
     "name": "stdout",
     "output_type": "stream",
     "text": [
      "[-1.68563813  0.91094038 -0.30209531  1.82825684  1.1724103 ]\n"
     ]
    }
   ],
   "source": [
    "print(a)"
   ]
  },
  {
   "cell_type": "code",
   "execution_count": 35,
   "metadata": {},
   "outputs": [
    {
     "name": "stdout",
     "output_type": "stream",
     "text": [
      "(5,)\n"
     ]
    }
   ],
   "source": [
    "print(a.shape)   #not suitable for deeplearning codes, it is a \"rank 1 array\" DO NOT USE IT"
   ]
  },
  {
   "cell_type": "code",
   "execution_count": 36,
   "metadata": {},
   "outputs": [
    {
     "name": "stdout",
     "output_type": "stream",
     "text": [
      "[-1.68563813  0.91094038 -0.30209531  1.82825684  1.1724103 ]\n"
     ]
    }
   ],
   "source": [
    "print(a.T)  # transpose"
   ]
  },
  {
   "cell_type": "code",
   "execution_count": 37,
   "metadata": {},
   "outputs": [
    {
     "name": "stdout",
     "output_type": "stream",
     "text": [
      "8.479518834673927\n"
     ]
    }
   ],
   "source": [
    "print(np.dot(a,a.T))"
   ]
  },
  {
   "cell_type": "code",
   "execution_count": 39,
   "metadata": {},
   "outputs": [
    {
     "name": "stdout",
     "output_type": "stream",
     "text": [
      "[[ 0.20036487]\n",
      " [-0.17643087]\n",
      " [-2.4666283 ]\n",
      " [ 2.11084208]\n",
      " [-0.64303632]]\n"
     ]
    }
   ],
   "source": [
    "#instead, define the rows and collumns\n",
    "a = np.random.randn(5,1)\n",
    "print(a)"
   ]
  },
  {
   "cell_type": "code",
   "execution_count": 41,
   "metadata": {},
   "outputs": [
    {
     "name": "stdout",
     "output_type": "stream",
     "text": [
      "[[ 0.20036487 -0.17643087 -2.4666283   2.11084208 -0.64303632]]\n"
     ]
    }
   ],
   "source": [
    "print(a.T) #now a is really visualized as transpose "
   ]
  },
  {
   "cell_type": "code",
   "execution_count": 42,
   "metadata": {},
   "outputs": [
    {
     "name": "stdout",
     "output_type": "stream",
     "text": [
      "[[ 0.04014608 -0.03535055 -0.49422566  0.4229386  -0.12884189]\n",
      " [-0.03535055  0.03112785  0.43518937 -0.3724177   0.11345145]\n",
      " [-0.49422566  0.43518937  6.08425516 -5.20666281  1.58613159]\n",
      " [ 0.4229386  -0.3724177  -5.20666281  4.45565429 -1.35734813]\n",
      " [-0.12884189  0.11345145  1.58613159 -1.35734813  0.41349571]]\n"
     ]
    }
   ],
   "source": [
    "print(np.dot(a,a.T))  #it gives us a correct product (not just a single value)"
   ]
  },
  {
   "cell_type": "markdown",
   "metadata": {},
   "source": [
    "# reminders\n",
    "- a = np.random.randn(5,1)  --> a.shape = (5,1)\n",
    "- a = np.random.randn(1,5)  --> a.shape = (1,5)\n",
    "- assert(a.shape == (5,1))  --> a = a.reshape((5,1))"
   ]
  },
  {
   "cell_type": "code",
   "execution_count": null,
   "metadata": {},
   "outputs": [],
   "source": []
  }
 ],
 "metadata": {
  "kernelspec": {
   "display_name": "Python 3",
   "language": "python",
   "name": "python3"
  },
  "language_info": {
   "codemirror_mode": {
    "name": "ipython",
    "version": 3
   },
   "file_extension": ".py",
   "mimetype": "text/x-python",
   "name": "python",
   "nbconvert_exporter": "python",
   "pygments_lexer": "ipython3",
   "version": "3.7.6"
  }
 },
 "nbformat": 4,
 "nbformat_minor": 4
}
